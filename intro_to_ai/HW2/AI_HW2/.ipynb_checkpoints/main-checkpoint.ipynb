{
 "cells": [
  {
   "cell_type": "code",
   "execution_count": null,
   "id": "061b0438",
   "metadata": {},
   "outputs": [],
   "source": [
    "# For Google Colab\n",
    "# Install folium package.\n",
    "!pip install folium\n",
    "!pip install google-colab"
   ]
  },
  {
   "cell_type": "code",
   "execution_count": 2,
   "id": "e45e6c22",
   "metadata": {},
   "outputs": [
    {
     "ename": "ModuleNotFoundError",
     "evalue": "No module named 'google.colab'",
     "output_type": "error",
     "traceback": [
      "\u001b[0;31m---------------------------------------------------------------------------\u001b[0m",
      "\u001b[0;31mModuleNotFoundError\u001b[0m                       Traceback (most recent call last)",
      "Cell \u001b[0;32mIn[2], line 4\u001b[0m\n\u001b[1;32m      1\u001b[0m \u001b[38;5;66;03m# For Google Colab\u001b[39;00m\n\u001b[1;32m      2\u001b[0m \u001b[38;5;66;03m# Mount your Google drive and copy all files from \"AI_HW2\" directory\u001b[39;00m\n\u001b[1;32m      3\u001b[0m \u001b[38;5;66;03m# in your Google drive to current directory.\u001b[39;00m\n\u001b[0;32m----> 4\u001b[0m \u001b[38;5;28;01mfrom\u001b[39;00m \u001b[38;5;21;01mgoogle\u001b[39;00m\u001b[38;5;21;01m.\u001b[39;00m\u001b[38;5;21;01mcolab\u001b[39;00m \u001b[38;5;28;01mimport\u001b[39;00m drive\n\u001b[1;32m      5\u001b[0m drive\u001b[38;5;241m.\u001b[39mmount(\u001b[38;5;124m'\u001b[39m\u001b[38;5;124m/content/gdrive\u001b[39m\u001b[38;5;124m'\u001b[39m)\n\u001b[1;32m      6\u001b[0m get_ipython()\u001b[38;5;241m.\u001b[39msystem(\u001b[38;5;124m'\u001b[39m\u001b[38;5;124mcp -r ./gdrive/MyDrive/AI_HW2/* .\u001b[39m\u001b[38;5;124m'\u001b[39m)\n",
      "\u001b[0;31mModuleNotFoundError\u001b[0m: No module named 'google.colab'"
     ]
    }
   ],
   "source": [
    "# For Google Colab\n",
    "# Mount your Google drive and copy all files from \"AI_HW2\" directory\n",
    "# in your Google drive to current directory.\n",
    "from google.colab import drive\n",
    "drive.mount('/content/gdrive')\n",
    "!cp -r ./gdrive/MyDrive/AI_HW2/* ."
   ]
  },
  {
   "cell_type": "code",
   "execution_count": null,
   "id": "9f43965d",
   "metadata": {},
   "outputs": [],
   "source": [
    "# Don't change this part.\n",
    "# For load graph information and show map\n",
    "import folium\n",
    "import pickle\n",
    "def load_path_graph(path):\n",
    "    with open('graph.pkl', 'rb') as f:\n",
    "        graph = pickle.load(f)\n",
    "\n",
    "    node_pairs = list(zip(path[:-1], path[1:]))\n",
    "    lines = []\n",
    "    for edge in graph:\n",
    "        if (edge['u'], edge['v']) in node_pairs or  (edge['v'], edge['u']) in node_pairs:\n",
    "            lines.append(edge['geometry'])\n",
    "    return lines"
   ]
  },
  {
   "cell_type": "code",
   "execution_count": null,
   "id": "b80da329",
   "metadata": {},
   "outputs": [],
   "source": [
    "# Part 1~4 and 6\n",
    "# You can wirte in new .py files and import it.\n",
    "# ex: from astar import astar\n",
    "from bfs import bfs\n",
    "from dfs_stack import dfs\n",
    "from ucs import ucs\n",
    "from astar import astar\n",
    "from astar_time import astar_time"
   ]
  },
  {
   "cell_type": "code",
   "execution_count": null,
   "id": "2be92c21",
   "metadata": {},
   "outputs": [],
   "source": [
    "# Part 5\n",
    "# Change start ID and end ID.\n",
    "start = 2270143902\n",
    "end = 1079387396"
   ]
  },
  {
   "cell_type": "code",
   "execution_count": null,
   "id": "e6bf4122",
   "metadata": {
    "scrolled": false
   },
   "outputs": [],
   "source": [
    "# Don't change this part.\n",
    "# Show the result of BFS\n",
    "bfs_path, bfs_dist, bfs_visited = bfs(start, end)\n",
    "print(f'The number of nodes in the path found by BFS: {len(bfs_path)}')\n",
    "print(f'Total distance of path found by BFS: {bfs_dist} m')\n",
    "print(f'The number of visited nodes in BFS: {bfs_visited}\\n')\n",
    "\n",
    "fmap = folium.Map(location=(24.806383132251874, 120.97685775516189), zoom_start=13)\n",
    "for line in load_path_graph(bfs_path):\n",
    "    fmap.add_child(folium.PolyLine(locations=line, tooltip='bfs', weight=4, color='blue'))\n",
    "fmap"
   ]
  },
  {
   "cell_type": "code",
   "execution_count": null,
   "id": "9ac7e60e",
   "metadata": {},
   "outputs": [],
   "source": [
    "# Don't change this part.\n",
    "# Show the result of DFS\n",
    "dfs_path, dfs_dist, dfs_visited = dfs(start, end)\n",
    "print(f'The number of nodes in the path found by DFS: {len(dfs_path)}')\n",
    "print(f'Total distance of path found by DFS: {dfs_dist} m')\n",
    "print(f'The number of visited nodes in DFS: {dfs_visited}\\n')\n",
    "\n",
    "fmap = folium.Map(location=(24.806383132251874, 120.97685775516189), zoom_start=13)\n",
    "for line in load_path_graph(dfs_path):\n",
    "    fmap.add_child(folium.PolyLine(locations=line, tooltip='dfs', weight=4, color='green'))\n",
    "fmap"
   ]
  },
  {
   "cell_type": "code",
   "execution_count": null,
   "id": "7c99abde",
   "metadata": {},
   "outputs": [],
   "source": [
    "# Don't change this part.\n",
    "# Show the result of UCS\n",
    "ucs_path, ucs_dist, ucs_visited = ucs(start, end)\n",
    "print(f'The number of nodes in the path found by UCS: {len(ucs_path)}')\n",
    "print(f'Total distance of path found by UCS: {ucs_dist} m')\n",
    "print(f'The number of visited nodes in UCS: {ucs_visited}\\n')\n",
    "\n",
    "fmap = folium.Map(location=(24.806383132251874, 120.97685775516189), zoom_start=13)\n",
    "for line in load_path_graph(ucs_path):\n",
    "    fmap.add_child(folium.PolyLine(locations=line, tooltip='ucs', weight=4, color='violet'))\n",
    "fmap"
   ]
  },
  {
   "cell_type": "code",
   "execution_count": null,
   "id": "c0c70c70",
   "metadata": {},
   "outputs": [],
   "source": [
    "# Don't change this part.\n",
    "# Show the result of A* search\n",
    "astar_path, astar_dist, astar_visited = astar(start, end)\n",
    "print(f'The number of nodes in the path found by A* search: {len(astar_path)}')\n",
    "print(f'Total distance of path found by A* search: {astar_dist} m')\n",
    "print(f'The number of visited nodes in A* search: {astar_visited}\\n')\n",
    "\n",
    "fmap = folium.Map(location=(24.806383132251874, 120.97685775516189), zoom_start=13)\n",
    "for line in load_path_graph(astar_path):\n",
    "    fmap.add_child(folium.PolyLine(locations=line, tooltip='astar', weight=4, color='red'))\n",
    "fmap"
   ]
  },
  {
   "cell_type": "code",
   "execution_count": null,
   "id": "292bd60c",
   "metadata": {},
   "outputs": [],
   "source": [
    "# Part 6 (Bonus)\n",
    "# Don't change this part.\n",
    "# Show the shortest time result of A* search\n",
    "time_path, time, time_visited = astar_time(start, end)\n",
    "print(f'The number of nodes in the path found by A* search: {len(time_path)}')\n",
    "print(f'Total second of path found by A* search: {time} s')\n",
    "print(f'The number of visited nodes in A* search: {time_visited}\\n')\n",
    "\n",
    "fmap = folium.Map(location=(24.806383132251874, 120.97685775516189), zoom_start=13)\n",
    "for line in load_path_graph(time_path):\n",
    "    fmap.add_child(folium.PolyLine(locations=line, tooltip='astar', weight=4, color='red'))\n",
    "fmap"
   ]
  },
  {
   "cell_type": "code",
   "execution_count": null,
   "id": "3e00a641",
   "metadata": {},
   "outputs": [],
   "source": [
    "# For Google Colab\n",
    "# Remember to execute this line once you've modified any .py file\n",
    "# Save the .py code you have modified to your Google Drive\n",
    "!cp ./*.py ./gdrive/MyDrive/AI_HW2/"
   ]
  },
  {
   "cell_type": "code",
   "execution_count": null,
   "id": "b338ef5a",
   "metadata": {},
   "outputs": [],
   "source": []
  },
  {
   "cell_type": "code",
   "execution_count": null,
   "id": "25de97ae",
   "metadata": {},
   "outputs": [],
   "source": []
  },
  {
   "cell_type": "code",
   "execution_count": null,
   "id": "83a913bc",
   "metadata": {},
   "outputs": [],
   "source": []
  },
  {
   "cell_type": "code",
   "execution_count": null,
   "id": "a6a90ce3",
   "metadata": {},
   "outputs": [],
   "source": []
  },
  {
   "cell_type": "code",
   "execution_count": null,
   "id": "30de9c12",
   "metadata": {},
   "outputs": [],
   "source": []
  }
 ],
 "metadata": {
  "kernelspec": {
   "display_name": "Python 3",
   "language": "python",
   "name": "python3"
  },
  "language_info": {
   "codemirror_mode": {
    "name": "ipython",
    "version": 3
   },
   "file_extension": ".py",
   "mimetype": "text/x-python",
   "name": "python",
   "nbconvert_exporter": "python",
   "pygments_lexer": "ipython3",
   "version": "3.8.10"
  },
  "vscode": {
   "interpreter": {
    "hash": "916dbcbb3f70747c44a77c7bcd40155683ae19c65e1c03b4aa3499c5328201f1"
   }
  }
 },
 "nbformat": 4,
 "nbformat_minor": 5
}
